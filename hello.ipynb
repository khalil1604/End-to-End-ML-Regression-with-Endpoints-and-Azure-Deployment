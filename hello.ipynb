{
 "cells": [
  {
   "cell_type": "code",
   "execution_count": 1,
   "metadata": {},
   "outputs": [],
   "source": [
    "import os"
   ]
  },
  {
   "cell_type": "code",
   "execution_count": 4,
   "metadata": {},
   "outputs": [],
   "source": [
    "file_path = r\"C:\\Users\\KHALIL\\Documents\\gem stone price prediction github\\requirements.txt\""
   ]
  },
  {
   "cell_type": "code",
   "execution_count": 7,
   "metadata": {},
   "outputs": [],
   "source": [
    "with open(file_path) as file_obj:\n",
    "    requirements = file_obj.readlines()\n",
    "    requirements = [ req.replace(\"\\n\",\"\") for req in requirements]\n"
   ]
  },
  {
   "cell_type": "code",
   "execution_count": 8,
   "metadata": {},
   "outputs": [
    {
     "data": {
      "text/plain": [
       "['scikit-learn==1.2.2  # specify this first',\n",
       " 'numpy',\n",
       " 'pandas',\n",
       " 'matplotlib',\n",
       " 'seaborn',\n",
       " 'ipykernel',\n",
       " 'catboost',\n",
       " 'xgboost',\n",
       " 'dill',\n",
       " 'flask',\n",
       " 'flask_cors',\n",
       " 'lime',\n",
       " '# -e .']"
      ]
     },
     "execution_count": 8,
     "metadata": {},
     "output_type": "execute_result"
    }
   ],
   "source": [
    "requirements"
   ]
  }
 ],
 "metadata": {
  "kernelspec": {
   "display_name": "gemstone2",
   "language": "python",
   "name": "python3"
  },
  "language_info": {
   "codemirror_mode": {
    "name": "ipython",
    "version": 3
   },
   "file_extension": ".py",
   "mimetype": "text/x-python",
   "name": "python",
   "nbconvert_exporter": "python",
   "pygments_lexer": "ipython3",
   "version": "3.8.20"
  }
 },
 "nbformat": 4,
 "nbformat_minor": 2
}
